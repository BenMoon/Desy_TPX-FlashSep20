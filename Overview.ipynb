{
 "cells": [
  {
   "cell_type": "markdown",
   "metadata": {},
   "source": [
    "TODO: \n",
    "- look for where the highest TOT in TOF is triggered\n",
    "- statistical analysis of TOT events"
   ]
  },
  {
   "cell_type": "code",
   "execution_count": 1,
   "metadata": {},
   "outputs": [
    {
     "data": {
      "application/json": {
       "e-run_0004_20200903-1345": {
        "IKrum": 20,
        "pulses": 6,
        "rep": 200,
        "sample": "background"
       },
       "e-run_0005_20200903-1414": {
        "IKrum": 20,
        "pulses": 6,
        "rep": 200,
        "sample": "background"
       },
       "e-run_0006_20200903-1504": {
        "IKrum": 20,
        "pulses": 6,
        "rep": 200,
        "sample": "He"
       },
       "e-run_0007_20200903-1517": {
        "IKrum": 20,
        "pulses": 6,
        "rep": 200,
        "sample": "He"
       },
       "e-run_0008_20200903-1526": {
        "IKrum": 20,
        "pulses": 6,
        "rep": 200,
        "sample": "He"
       },
       "e-run_0009_20200903-1541": {
        "IKrum": 20,
        "pulses": 30,
        "rep": 1000,
        "sample": "He"
       },
       "e-run_0010_20200903-1600": {
        "IKrum": 20,
        "comment": "micro-bunch trigger",
        "pulses": 30,
        "rep": 1000,
        "sample": "He"
       },
       "e-run_0011_20200903-1626": {
        "IKrum": 20,
        "pulses": 30,
        "rep": 200,
        "sample": "He"
       },
       "e-run_0012_20200903-1638": {
        "IKrum": 20,
        "pulses": 30,
        "rep": 1000,
        "sample": "He"
       },
       "e-run_0013_20200903-1728": {
        "IKrum": 20,
        "pulses": 4,
        "rep": 100,
        "sample": "CH3I"
       },
       "e-run_0014_20200903-1738": {
        "IKrum": 20,
        "pulses": 4,
        "rep": 100,
        "sample": "CH3I"
       },
       "e-run_0015_20200903-1821": {
        "IKrum": 20,
        "pulses": 7,
        "rep": 200,
        "sample": "CH3I"
       },
       "e-run_0016_20200903-1835": {
        "IKrum": 20,
        "pulses": 7,
        "rep": 200,
        "sample": "CH3I"
       },
       "e-run_0017_20200903-1857": {
        "IKrum": 20,
        "pulses": 7,
        "rep": 200,
        "sample": "background"
       },
       "e-run_0018_20200903-1908": {
        "IKrum": 20,
        "pulses": 7,
        "rep": 200,
        "sample": "background"
       },
       "e-run_0019_20200903-1917": {
        "IKrum": 20,
        "pulses": 7,
        "rep": 200,
        "sample": "background"
       },
       "e-run_0020_20200903-2009": {
        "IKrum": 150,
        "pulses": 8,
        "rep": 250,
        "sample": "N2"
       },
       "e-run_0021_20200903-2042": {
        "IKrum": 80,
        "pulses": 8,
        "rep": 250,
        "sample": "N2"
       },
       "e-run_0022_20200903-2202": {
        "IKrum": 150,
        "pulses": 8,
        "rep": 250,
        "sample": "N2"
       },
       "e-run_0023_20200904-0004": {
        "IKrum": 150,
        "pulses": 1,
        "rep": 250,
        "sample": "N2"
       },
       "ion-run_0003_20200903-1345": {
        "IKrum": 20,
        "pulses": 6,
        "rep": 200,
        "sample": "background"
       },
       "ion-run_0005_20200903-1414": {
        "IKrum": 20,
        "pulses": 6,
        "rep": 200,
        "sample": "background"
       },
       "ion-run_0006_20200903-1727": {
        "IKrum": 20,
        "e-run": 13,
        "pulses": 4,
        "rep": 100,
        "sample": "CH3I"
       },
       "ion-run_0007_20200903-1738": {
        "IKrum": 20,
        "e-run": 14,
        "pulses": 4,
        "rep": 100,
        "sample": "CH3I"
       },
       "ion-run_0008_20200903-1821": {
        "IKrum": 20,
        "e-run": 15,
        "pulses": 7,
        "rep": 200,
        "sample": "CH3I"
       },
       "ion-run_0009_20200903-1835": {
        "IKrum": 20,
        "e-run": 16,
        "pulses": 7,
        "rep": 200,
        "sample": "CH3I"
       },
       "ion-run_0010_20200903-1857": {
        "IKrum": 20,
        "e-run": 17,
        "pulses": 7,
        "rep": 200,
        "sample": "background"
       },
       "ion-run_0011_20200903-1908": {
        "IKrum": 20,
        "e-run": 18,
        "pulses": 7,
        "rep": 200,
        "sample": "background"
       },
       "ion-run_0012_20200903-1917": {
        "IKrum": 20,
        "e-run": 19,
        "pulses": 7,
        "rep": 200,
        "sample": "background"
       },
       "ion-run_0013_20200903-2014": {
        "IKrum": 150,
        "e-run": 20,
        "pulses": 8,
        "rep": 250,
        "sample": "N2"
       },
       "ion-run_0014_20200903-2043": {
        "IKrum": 80,
        "e-run": 21,
        "pulses": 8,
        "rep": 250,
        "sample": "N2"
       },
       "ion-run_0016_20200903-2202": {
        "IKrum": 150,
        "e-run": 22,
        "pulses": 8,
        "rep": 250,
        "sample": "N2"
       },
       "ion-run_0017_20200904-0004": {
        "IKrum": 150,
        "e-run": 23,
        "pulses": 1,
        "rep": 250,
        "sample": "N2"
       }
      },
      "text/plain": [
       "<IPython.core.display.JSON object>"
      ]
     },
     "execution_count": 1,
     "metadata": {
      "application/json": {
       "expanded": false,
       "root": "root"
      }
     },
     "output_type": "execute_result"
    }
   ],
   "source": [
    "import yaml\n",
    "from IPython.display import JSON\n",
    "\n",
    "with open(\"runs.yaml\") as f:\n",
    "    runNrs = yaml.safe_load(f)\n",
    "JSON(runNrs)"
   ]
  },
  {
   "cell_type": "code",
   "execution_count": 10,
   "metadata": {},
   "outputs": [
    {
     "name": "stdout",
     "output_type": "stream",
     "text": [
      "e-run_0004_20200903-1345 {'IKrum': 20, 'sample': 'background', 'rep': 200, 'pulses': 6}\n",
      "ion-run_0003_20200903-1345 {'IKrum': 20, 'sample': 'background', 'rep': 200, 'pulses': 6}\n",
      "e-run_0005_20200903-1414 {'IKrum': 20, 'sample': 'background', 'rep': 200, 'pulses': 6}\n",
      "ion-run_0005_20200903-1414 {'IKrum': 20, 'sample': 'background', 'rep': 200, 'pulses': 6}\n",
      "e-run_0017_20200903-1857 {'IKrum': 20, 'sample': 'background', 'rep': 200, 'pulses': 7}\n",
      "ion-run_0010_20200903-1857 {'IKrum': 20, 'sample': 'background', 'rep': 200, 'pulses': 7}\n",
      "e-run_0018_20200903-1908 {'IKrum': 20, 'sample': 'background', 'rep': 200, 'pulses': 7}\n",
      "ion-run_0011_20200903-1908 {'IKrum': 20, 'sample': 'background', 'rep': 200, 'pulses': 7}\n",
      "e-run_0019_20200903-1917 {'IKrum': 20, 'sample': 'background', 'rep': 200, 'pulses': 7}\n",
      "ion-run_0012_20200903-1917 {'IKrum': 20, 'sample': 'background', 'rep': 200, 'pulses': 7}\n"
     ]
    }
   ],
   "source": [
    "for run in runNrs:\n",
    "    if runNrs[run][\"sample\"] == \"background\":\n",
    "        print(run, runNrs[run])"
   ]
  },
  {
   "cell_type": "markdown",
   "metadata": {},
   "source": [
    "# Confluence links"
   ]
  },
  {
   "cell_type": "markdown",
   "metadata": {},
   "source": [
    "- [Confluence Home](https://confluence.desy.de/display/TPX3BT/Timepix3+Beam-Times+Home)\n",
    "- [Meeting Note](https://confluence.desy.de/display/TPX3BT/2020-09-07+Meeting+notes+Beamtime+wrap+up)"
   ]
  },
  {
   "cell_type": "markdown",
   "metadata": {},
   "source": [
    "# Analysis\n",
    "- [Timewalk](./Timewalk.ipynb)\n",
    "- [Flash DAQ correlation](./flash_correlation.ipynb)\n"
   ]
  },
  {
   "cell_type": "markdown",
   "metadata": {},
   "source": [
    "## [Time resolution](./timeresolution.ipynb)\n",
    "The first conclusion for the time resolution"
   ]
  },
  {
   "cell_type": "markdown",
   "metadata": {},
   "source": [
    "<img width=800, src=\"images/microbunch-jitter.png\">"
   ]
  },
  {
   "cell_type": "markdown",
   "metadata": {},
   "source": [
    "<img width=800, src=\"images/delta_peak_error.png\">"
   ]
  },
  {
   "cell_type": "markdown",
   "metadata": {},
   "source": [
    "## High rep rate"
   ]
  },
  {
   "cell_type": "markdown",
   "metadata": {},
   "source": [
    "- [1 MHz](./1MHz.ipynb)"
   ]
  },
  {
   "cell_type": "markdown",
   "metadata": {},
   "source": [
    "<img width=400, src=\"images/Electron burst mode.png\">"
   ]
  },
  {
   "cell_type": "markdown",
   "metadata": {},
   "source": [
    "## CH_3I TOFs + single mass VMIs"
   ]
  },
  {
   "cell_type": "markdown",
   "metadata": {},
   "source": [
    "- [CH3I and N2 TOF](./CH3I_TOFs.ipynb)"
   ]
  },
  {
   "cell_type": "markdown",
   "metadata": {},
   "source": [
    "<img width=400, src=\"images/Ion burst mode.png\">"
   ]
  },
  {
   "cell_type": "markdown",
   "metadata": {},
   "source": [
    "# background"
   ]
  },
  {
   "cell_type": "markdown",
   "metadata": {},
   "source": [
    "<img src=\"images/e-background.png\">"
   ]
  },
  {
   "cell_type": "markdown",
   "metadata": {},
   "source": [
    "# flash daq correlation\n",
    "correlating the number of pixels per trigger event with the integral of the MCP trace we can correlate the Flash DAQ with the TimePix data\n",
    "<img src=\"images/DAQ_TPX_Correlate.png\" width=400px>"
   ]
  },
  {
   "cell_type": "markdown",
   "metadata": {},
   "source": [
    "# flash daq correlation\n",
    "correlating the number of pixels per trigger event from ions with the number of pixels per trigger event from electrons\n",
    "<img src=\"images/tpx2tpx.png\" width=400px>"
   ]
  },
  {
   "cell_type": "markdown",
   "metadata": {},
   "source": [
    "# PIPICO"
   ]
  },
  {
   "cell_type": "markdown",
   "metadata": {},
   "source": [
    "<img src=\"images/PIPICO_N2.png\" width=400px>\n",
    "<img src=\"images/PIPICO_N2_zoom.png\" width=400px>\n",
    "<img src=\"images/PIPICO_N2_zoom_average.png\" width=400px>"
   ]
  },
  {
   "cell_type": "code",
   "execution_count": null,
   "metadata": {},
   "outputs": [],
   "source": []
  }
 ],
 "metadata": {
  "kernelspec": {
   "display_name": "myenv",
   "language": "python",
   "name": "myenv"
  },
  "language_info": {
   "codemirror_mode": {
    "name": "ipython",
    "version": 3
   },
   "file_extension": ".py",
   "mimetype": "text/x-python",
   "name": "python",
   "nbconvert_exporter": "python",
   "pygments_lexer": "ipython3",
   "version": "3.7.8"
  }
 },
 "nbformat": 4,
 "nbformat_minor": 4
}
