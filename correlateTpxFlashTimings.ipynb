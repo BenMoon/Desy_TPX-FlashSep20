{
 "cells": [
  {
   "cell_type": "code",
   "execution_count": 1,
   "metadata": {},
   "outputs": [],
   "source": [
    "import os\n",
    "import socket\n",
    "import glob\n",
    "import h5py\n",
    "import numpy as np\n",
    "import pandas as pd\n",
    "from pandas import Series, concat, cut\n",
    "from datetime import datetime\n",
    "\n",
    "import sqlite3\n",
    "from sqlite3 import Error\n",
    "\n",
    "import dask.dataframe as dd\n",
    "from dask.delayed import delayed\n",
    "from dask.distributed import Client\n",
    "\n",
    "from scipy.stats import pearsonr, spearmanr\n",
    "import matplotlib.pyplot as plt\n",
    "import yaml\n",
    "\n",
    "from tqdm import tqdm"
   ]
  },
  {
   "cell_type": "code",
   "execution_count": 2,
   "metadata": {},
   "outputs": [],
   "source": [
    "def timing_series(h5file: h5py.File, flash:int) -> Series:\n",
    "    assert flash in [1, 2], \"Precond.: FLASH 1 or 2\"\n",
    "    tGroup = h5file[f\"/FL{flash:1d}/Timing/Bunch pattern/train index {flash:1d}\"]\n",
    "    trainId = Series(tGroup[\"index\"], name=\"Train ID\")\n",
    "    return Series(tGroup[\"time\"], name=\"Date/Time\", index=trainId).apply(datetime.fromtimestamp)\n",
    "\n",
    "def dset_series(group: h5py.Group, pos=None) -> Series:\n",
    "    short_name = \"/\".join(group.name.split(\"/\")[-3:])\n",
    "    trainId = Series(group[\"index\"], name=\"Train ID\")\n",
    "    if pos:\n",
    "        return Series((group[\"value\"][i][pos] for i in trainId.index), name=short_name, index=trainId)\n",
    "    else:\n",
    "        return Series((group[\"value\"][i] for i in trainId.index), name=short_name, index=trainId)\n",
    "\n",
    "def h5_load(filename, dataset_dict):\n",
    "    with h5py.File(filename, 'r') as h5file:\n",
    "        time = timing_series(h5file, 1)       \n",
    "        dataset_list = [dset_series(h5file[value]) if type(value)==str \n",
    "                        else dset_series(h5file[value[0]],value[1]) for value in dataset_dict.values()]\n",
    "        df = concat([time]+ dataset_list, axis=1).dropna()\n",
    "        df.columns = ['time'] + [key for key in dataset_dict]\n",
    "        return df\n",
    "    \n",
    "def load_dataset(file_list, dataset_dict):\n",
    "    return dd.from_delayed([delayed(h5_load)(file, dataset_dict) for file in file_list])\n",
    "\n",
    "def create_connection(db_file: str) -> sqlite3.Connection:\n",
    "    \"\"\" create a database connection to the SQLite database\n",
    "        specified by db_file\n",
    "    :param db_file: database file\n",
    "    :return: Connection object or None\n",
    "    \"\"\"\n",
    "    conn = None\n",
    "    try:\n",
    "        conn = sqlite3.connect(db_file)\n",
    "    except Error as e:\n",
    "        print(e)\n",
    "\n",
    "    return conn\n",
    "\n",
    "def get_daq_files(id_min: int, id_max: int) -> list:\n",
    "    # create a database connection\n",
    "    conn = create_connection(database)\n",
    "    with conn:\n",
    "        sql = f'''SELECT name FROM files WHERE id IN \n",
    "            (SELECT file_id FROM trainIDs WHERE id >= {id_min} AND id <= {id_max})'''\n",
    "        cur = conn.cursor()\n",
    "        cur.execute(sql)\n",
    "        daq_files = cur.fetchall()\n",
    "    if len(daq_files) > 0:\n",
    "        return [os.path.join('/asap3/fs-flash-o/gpfs/camp/2020/data/11010494/raw/hdf/express-0', i[0]) for i in daq_files]\n",
    "    else:\n",
    "        return\n",
    "    \n",
    "def get_adc_traces(id_min: int, id_max: int) -> pd.DataFrame:\n",
    "    daq_files = get_daq_files(id_min, id_max)\n",
    "    df = pd.DataFrame()\n",
    "    for file in daq_files:\n",
    "        with h5py.File(file, 'r') as f:\n",
    "            df = pd.concat((df, pd.DataFrame([f[f'{ghz_adc_addr}/index'][:], f[f'{ghz_adc_addr}/value'][:]]).T), ignore_index=True)\n",
    "    df.columns = ['id', 'ADC']\n",
    "    df.set_index('id', inplace=True)\n",
    "    df.sort_index(inplace=True)\n",
    "    \n",
    "    return df"
   ]
  },
  {
   "cell_type": "code",
   "execution_count": 3,
   "metadata": {},
   "outputs": [],
   "source": [
    "#local_cluster = Client() \n",
    "#local_cluster"
   ]
  },
  {
   "cell_type": "code",
   "execution_count": 4,
   "metadata": {},
   "outputs": [],
   "source": [
    "# get run-numbers\n",
    "#with open('runs.yaml', 'r') as f:\n",
    "#    runNrs = yaml.safe_load(f)\n",
    "#timepix_run_number = 865\n",
    "tpx_hdf = '/asap3/fs-flash-o/gpfs/camp/2020/data/11010494/processed/hdf5/e-run_0007_20200903-1517.hdf5'\n",
    "database = '/asap3/fs-flash-o/gpfs/camp/2020/data/11010494/processed/hdf5/trainIDs.db'\n",
    "\n",
    "ghz_adc_addr = '/FL1/Experiment/BL1/ADQ412 GHz ADC/CH00/TD'"
   ]
  },
  {
   "cell_type": "markdown",
   "metadata": {},
   "source": [
    "#### TimePix"
   ]
  },
  {
   "cell_type": "markdown",
   "metadata": {},
   "source": [
    "##### get trainIDs"
   ]
  },
  {
   "cell_type": "code",
   "execution_count": 5,
   "metadata": {},
   "outputs": [],
   "source": [
    "def get_trainIDs(tpxFile):\n",
    "    with h5py.File(tpxFile, 'r') as f:\n",
    "        x2_trainIDs = f['timing/facility/train id'][:]\n",
    "        x2_timestamps = f['timing/facility/timestamp'][:]\n",
    "        tpx3_triggerNrs = f['timing/timepix/trigger nr'][:]\n",
    "        tpx3_timestamps = f['timing/timepix/timestamp'][:]\n",
    "    assert len(x2_trainIDs) == len(x2_timestamps), 'unmatching length'\n",
    "    assert len(tpx3_triggerNrs) == len(tpx3_timestamps), 'unmatching length'\n",
    "    assert len(set(x2_trainIDs)) == len(x2_trainIDs), 'found duplicates'\n",
    "    assert len(set(x2_timestamps)) == len(x2_timestamps), 'found duplicates'\n",
    "    assert len(set(tpx3_triggerNrs)) == len(tpx3_triggerNrs), 'found duplicates'\n",
    "    assert len(set(tpx3_timestamps)) == len(tpx3_timestamps), 'found duplicates'\n",
    "\n",
    "    start_index = np.abs(x2_timestamps - tpx3_timestamps[0]).argmin()\n",
    "    print(start_index)\n",
    "\n",
    "    #assert not (missing_elements(x2_trainIDs[start_index:])), 'list of trainIDs is not continuous'\n",
    "    trainIDs = [x2_trainIDs[start_index]]\n",
    "    trigger_Nrs = [tpx3_triggerNrs[0]]\n",
    "    skip = 1\n",
    "    for i in range(len(tpx3_triggerNrs) - 1):\n",
    "        if (tpx3_triggerNrs[i + 1] - tpx3_triggerNrs[i]) == 2:\n",
    "            skip += 1\n",
    "        try:\n",
    "            trainIDs.append(x2_trainIDs[start_index + i + skip])\n",
    "            trigger_Nrs.append(tpx3_triggerNrs[i+1])\n",
    "        except IndexError:\n",
    "            pass\n",
    "    assert len(trainIDs) == len(trigger_Nrs), 'matching fails'\n",
    "    \n",
    "    return (np.array(trigger_Nrs), np.array(trainIDs))"
   ]
  },
  {
   "cell_type": "code",
   "execution_count": 6,
   "metadata": {},
   "outputs": [
    {
     "name": "stdout",
     "output_type": "stream",
     "text": [
      "0\n",
      "3302 3302\n",
      "first ID 843769210, last ID 843773822, delta 4612\n"
     ]
    }
   ],
   "source": [
    "triggers, trainIDs_tpx = get_trainIDs(tpx_hdf)\n",
    "print(len(triggers), len(trainIDs_tpx))\n",
    "print(f'first ID {trainIDs_tpx.min()}, last ID {trainIDs_tpx.max()}, delta {trainIDs_tpx.max() - trainIDs_tpx.min()}')"
   ]
  },
  {
   "cell_type": "code",
   "execution_count": 7,
   "metadata": {},
   "outputs": [],
   "source": [
    "with h5py.File(tpx_hdf, 'r') as f:\n",
    "    trigNr = f['raw/trigger nr'][:]"
   ]
  },
  {
   "cell_type": "code",
   "execution_count": 8,
   "metadata": {},
   "outputs": [],
   "source": [
    "_ , tpx_events = np.unique(trigNr, return_counts=True)"
   ]
  },
  {
   "cell_type": "markdown",
   "metadata": {},
   "source": [
    "### FLASH's ADC"
   ]
  },
  {
   "cell_type": "code",
   "execution_count": 9,
   "metadata": {},
   "outputs": [],
   "source": [
    "def sum_tof(trace, offset=10):\n",
    "    if np.sum(trace) == 0:\n",
    "        return -1\n",
    "    trace -= np.mean(trace)\n",
    "    return np.sum(trace[trace > offset])"
   ]
  },
  {
   "cell_type": "code",
   "execution_count": 10,
   "metadata": {},
   "outputs": [
    {
     "name": "stdout",
     "output_type": "stream",
     "text": [
      "CPU times: user 586 ms, sys: 74.7 ms, total: 660 ms\n",
      "Wall time: 656 ms\n"
     ]
    }
   ],
   "source": [
    "%%time \n",
    "id_min = int(trainIDs_tpx[0])\n",
    "id_max = int(trainIDs_tpx[-1])\n",
    "adc_traces = get_adc_traces(id_min, id_min+10)"
   ]
  },
  {
   "cell_type": "code",
   "execution_count": 11,
   "metadata": {},
   "outputs": [
    {
     "name": "stdout",
     "output_type": "stream",
     "text": [
      "CPU times: user 350 ms, sys: 746 µs, total: 351 ms\n",
      "Wall time: 349 ms\n"
     ]
    }
   ],
   "source": [
    "%%time\n",
    "tof_sum = []\n",
    "trainIDs_daq = []\n",
    "for i in range(len(adc_traces)):\n",
    "    trainIDs_daq.append(id_min + i)\n",
    "    tof_sum.append(sum_tof(adc_traces['ADC'].iloc[i].astype(np.float)))\n",
    "tof_sum = np.asarray(tof_sum)"
   ]
  },
  {
   "cell_type": "code",
   "execution_count": 12,
   "metadata": {},
   "outputs": [
    {
     "data": {
      "text/plain": [
       "'\\nval, comm1, comm2 = np.intersect1d(trainIDs_daq, trainIDs_tpx-9, assume_unique=True, return_indices=True)\\ntof_corr = tof_sum[comm1]\\ntpx_corr = events[comm2]\\n\\ncorr2, _ = spearmanr(tof_corr, tpx_corr)\\ncorr2\\n'"
      ]
     },
     "execution_count": 12,
     "metadata": {},
     "output_type": "execute_result"
    }
   ],
   "source": [
    "'''\n",
    "val, comm1, comm2 = np.intersect1d(trainIDs_daq, trainIDs_tpx-9, assume_unique=True, return_indices=True)\n",
    "tof_corr = tof_sum[comm1]\n",
    "tpx_corr = events[comm2]\n",
    "\n",
    "corr2, _ = spearmanr(tof_corr, tpx_corr)\n",
    "corr2\n",
    "'''"
   ]
  },
  {
   "cell_type": "code",
   "execution_count": 13,
   "metadata": {},
   "outputs": [],
   "source": [
    "#plt.plot(tof_corr, tpx_corr, 'o')"
   ]
  },
  {
   "cell_type": "code",
   "execution_count": 14,
   "metadata": {},
   "outputs": [
    {
     "name": "stderr",
     "output_type": "stream",
     "text": [
      "100%|██████████| 200/200 [00:00<00:00, 800.07it/s]"
     ]
    },
    {
     "name": "stdout",
     "output_type": "stream",
     "text": [
      "CPU times: user 252 ms, sys: 6.4 ms, total: 258 ms\n",
      "Wall time: 256 ms\n"
     ]
    },
    {
     "name": "stderr",
     "output_type": "stream",
     "text": [
      "\n"
     ]
    }
   ],
   "source": [
    "%%time\n",
    "\n",
    "spear = []\n",
    "pear = []\n",
    "shift = []\n",
    "\n",
    "for s in tqdm(range(-100,100)):\n",
    "    val, comm1, comm2 = np.intersect1d(trainIDs_daq, trainIDs_tpx+s, assume_unique=True, return_indices=True)\n",
    "    tof_corr = tof_sum[comm1]\n",
    "    tpx_corr = tpx_events[comm2]\n",
    "        \n",
    "    tof_corr = np.array(tof_corr)\n",
    "    tpx_corr = np.array(tpx_corr)\n",
    "    corr, _  =  pearsonr(tof_corr, tpx_corr)\n",
    "    corr2, _ = spearmanr(tof_corr, tpx_corr)\n",
    "    pear.append(corr)\n",
    "    spear.append(corr2)\n",
    "    shift.append(s)\n",
    "    #print(s)"
   ]
  },
  {
   "cell_type": "code",
   "execution_count": 15,
   "metadata": {},
   "outputs": [
    {
     "data": {
      "image/png": "[encoded data removed]",
      "text/plain": [
       "<Figure size 432x288 with 1 Axes>"
      ]
     },
     "metadata": {
      "needs_background": "light"
     },
     "output_type": "display_data"
    }
   ],
   "source": [
    "fig = plt.figure()\n",
    "plt.plot(shift, pear,'bo')\n",
    "plt.plot(shift, spear,'ro')\n",
    "plt.title(f' Pearson (blue) vs Spearman (red) ')\n",
    "plt.xlabel('shift')\n",
    "plt.ylabel('corr coef')\n",
    "\n",
    "pass"
   ]
  },
  {
   "cell_type": "markdown",
   "metadata": {},
   "source": [
    "### check generated hdf5 file for correlation"
   ]
  },
  {
   "cell_type": "code",
   "execution_count": 16,
   "metadata": {},
   "outputs": [],
   "source": [
    "#file = 'out/run_0865_20191219-0926.hdf5'"
   ]
  },
  {
   "cell_type": "code",
   "execution_count": 17,
   "metadata": {},
   "outputs": [],
   "source": [
    "#with h5py.File(file, 'r') as f:\n",
    "#    #f['/timing/facility'].attrs['shift'] = -9\n",
    "#    print(f['/timing/facility'].attrs['shift'])"
   ]
  },
  {
   "cell_type": "code",
   "execution_count": null,
   "metadata": {},
   "outputs": [],
   "source": []
  }
 ],
 "metadata": {
  "kernelspec": {
   "display_name": "Conda TimePix Env",
   "language": "python",
   "name": "timepix"
  },
  "language_info": {
   "codemirror_mode": {
    "name": "ipython",
    "version": 3
   },
   "file_extension": ".py",
   "mimetype": "text/x-python",
   "name": "python",
   "nbconvert_exporter": "python",
   "pygments_lexer": "ipython3",
   "version": "3.7.8"
  }
 },
 "nbformat": 4,
 "nbformat_minor": 4
}
